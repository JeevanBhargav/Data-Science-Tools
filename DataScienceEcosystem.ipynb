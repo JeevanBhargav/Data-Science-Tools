{
 "cells": [
  {
   "cell_type": "markdown",
   "id": "d59b303e",
   "metadata": {},
   "source": [
    "<center>\n",
    "    <img src=\"https://cf-courses-data.s3.us.cloud-object-storage.appdomain.cloud/IBMDeveloperSkillsNetwork-DS0105EN-SkillsNetwork/labs/Module2/images/SN_web_lightmode.png\" width=\"300\" alt=\"cognitiveclass.ai logo\">\n",
    "</center>\n"
   ]
  },
  {
   "cell_type": "markdown",
   "id": "5c60dddc",
   "metadata": {},
   "source": [
    "#### Add your code below following the instructions given in the course"
   ]
  },
  {
   "cell_type": "markdown",
   "id": "d7659fbe",
   "metadata": {},
   "source": [
    "# Data Science Tools and Ecosystem"
   ]
  },
  {
   "cell_type": "markdown",
   "id": "eb5658a4",
   "metadata": {},
   "source": [
    "In this notebook, Data Science Tools and Ecosystem are summarized"
   ]
  },
  {
   "cell_type": "markdown",
   "id": "fbb461e4",
   "metadata": {},
   "source": [
    "Some of the popular languages that Data Scientists use are:"
   ]
  },
  {
   "cell_type": "markdown",
   "id": "bb83cc08",
   "metadata": {},
   "source": [
    "1. Python\n",
    "2. Java\n",
    "3. SQL\n",
    "4. C++"
   ]
  },
  {
   "cell_type": "markdown",
   "id": "fed6266e",
   "metadata": {},
   "source": [
    "Some of the commonly used libraries used by Data Scientists include:"
   ]
  },
  {
   "cell_type": "markdown",
   "id": "f6eef828",
   "metadata": {},
   "source": [
    "1. NumPy\n",
    "2. Pandas\n",
    "3. Matplotlib\n",
    "4. Scikit-Learn"
   ]
  },
  {
   "cell_type": "markdown",
   "id": "885f6c55",
   "metadata": {},
   "source": [
    "Data Science Tools: "
   ]
  },
  {
   "cell_type": "markdown",
   "id": "c52ae90b",
   "metadata": {},
   "source": [
    "| Data Science Tools |\n",
    "| ----------------- |\n",
    "| Jupyter Notebook  |\n",
    "| R Studio          |\n",
    "| MySQL             |\n",
    "| PostgresQL      |\n",
    "| Github      |\n",
    "| Kibana      |\n",
    "\n"
   ]
  },
  {
   "cell_type": "markdown",
   "id": "7ddf1f03",
   "metadata": {},
   "source": [
    "### Below are a few examples of evaluating arithmetic expressions in Python."
   ]
  },
  {
   "cell_type": "code",
   "execution_count": 4,
   "id": "de1a5abb",
   "metadata": {},
   "outputs": [
    {
     "data": {
      "text/plain": [
       "17"
      ]
     },
     "execution_count": 4,
     "metadata": {},
     "output_type": "execute_result"
    }
   ],
   "source": [
    "#This a simple arithmetic expression to mutiply then add integers.\n",
    "(3*4)+5"
   ]
  },
  {
   "cell_type": "code",
   "execution_count": 5,
   "id": "70ad68cf",
   "metadata": {},
   "outputs": [
    {
     "data": {
      "text/plain": [
       "3.3333333333333335"
      ]
     },
     "execution_count": 5,
     "metadata": {},
     "output_type": "execute_result"
    }
   ],
   "source": [
    "#This will convert 200 minutes to hours by diving by 60\n",
    "200/60"
   ]
  },
  {
   "cell_type": "markdown",
   "id": "32f32e40",
   "metadata": {},
   "source": [
    "**Objectives:**\n"
   ]
  },
  {
   "cell_type": "markdown",
   "id": "faf83ef0",
   "metadata": {},
   "source": [
    "- Explained the purpose of repositories and storage structures\n",
    "- Described the purpose of branches in version control\n",
    "- Demonstrated data visualization packages in R\n",
    "- Discussed plotting using ggplot\n"
   ]
  },
  {
   "cell_type": "markdown",
   "id": "01a09f17",
   "metadata": {},
   "source": [
    "## Author\n",
    "Jeevan Bhargav"
   ]
  },
  {
   "cell_type": "code",
   "execution_count": null,
   "id": "c44070c1",
   "metadata": {},
   "outputs": [],
   "source": []
  },
  {
   "cell_type": "code",
   "execution_count": null,
   "id": "ccf0acf3",
   "metadata": {},
   "outputs": [],
   "source": []
  }
 ],
 "metadata": {
  "kernelspec": {
   "display_name": "Python 3 (ipykernel)",
   "language": "python",
   "name": "python3"
  },
  "language_info": {
   "codemirror_mode": {
    "name": "ipython",
    "version": 3
   },
   "file_extension": ".py",
   "mimetype": "text/x-python",
   "name": "python",
   "nbconvert_exporter": "python",
   "pygments_lexer": "ipython3",
   "version": "3.9.13"
  }
 },
 "nbformat": 4,
 "nbformat_minor": 5
}
